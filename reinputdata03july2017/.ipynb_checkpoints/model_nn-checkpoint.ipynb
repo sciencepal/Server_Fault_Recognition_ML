{
 "cells": [
  {
   "cell_type": "code",
   "execution_count": 155,
   "metadata": {
    "collapsed": true
   },
   "outputs": [],
   "source": [
    "import pandas as pd\n",
    "import numpy as np\n",
    "import matplotlib.pyplot as plt\n",
    "import tensorflow as tf\n",
    "import sklearn\n",
    "from sklearn.model_selection import train_test_split as tt\n",
    "from sklearn.metrics import accuracy_score as acc\n",
    "%matplotlib inline"
   ]
  },
  {
   "cell_type": "code",
   "execution_count": 156,
   "metadata": {
    "collapsed": true
   },
   "outputs": [],
   "source": [
    "file = open(\"dummy.csv\", \"r\")\n",
    "file1 = open(\"data_nn.csv\", \"w\")\n",
    "file1.write('\"Ping Local\" \"Ping LocalApp-CorpApp\" \"Ping LocalApp-CorpDB\" \"Load Average LocalApp\" \"Load Average LocalDB\" \"Load Average CORPApp\" \"TNS ping LocalApp-LocalDB\" \"TNS ping LocalApp-CorpDB\" \"Class0\" \"Class1\" \"Class2\" \"Class3\"\\n')\n",
    "for line in file:\n",
    "    l = len(line)\n",
    "    dat = list(line.split())\n",
    "    if (dat[1] == 'x' or dat[5] == 'x'):\n",
    "        line = \"\"\n",
    "        for da in dat:\n",
    "            if (da == 'x'):\n",
    "                da = '9999999999'\n",
    "            line+=da+\" \"\n",
    "        line += \"0 1 0 0\\n\"\n",
    "    elif (dat[2] == 'x' or dat[7] == 'x'):\n",
    "        line = \"\"\n",
    "        for da in dat:\n",
    "            if (da == 'x'):\n",
    "                da = '9999999999'\n",
    "            line+=da+\" \"\n",
    "        line += \"0 0 1 0\\n\"\n",
    "    elif (dat[3] == 'x' or dat[4] == 'x' or dat[6] == 'x'):\n",
    "        line = \"\"\n",
    "        for da in dat:\n",
    "            if (da == 'x'):\n",
    "                da = '9999999999'\n",
    "            line+=da+\" \"\n",
    "        line += \"0 0 0 1\\n\"\n",
    "    else:\n",
    "        line = line[:-1] + \" 1 0 0 0\" + line[-1]\n",
    "    file1.write(line)\n",
    "file.close()\n",
    "file1.close()"
   ]
  },
  {
   "cell_type": "code",
   "execution_count": 157,
   "metadata": {},
   "outputs": [
    {
     "name": "stderr",
     "output_type": "stream",
     "text": [
      "c:\\programdata\\miniconda3\\lib\\site-packages\\ipykernel_launcher.py:2: DeprecationWarning: \n",
      ".ix is deprecated. Please use\n",
      ".loc for label based indexing or\n",
      ".iloc for positional indexing\n",
      "\n",
      "See the documentation here:\n",
      "http://pandas.pydata.org/pandas-docs/stable/indexing.html#deprecate_ix\n",
      "  \n"
     ]
    }
   ],
   "source": [
    "data = pd.read_csv(\"data_nn.csv\",delimiter = ' ')\n",
    "x = data.ix[:,:8]\n",
    "y = data.ix[:,8:]\n",
    "x_train,x_test,y_train,y_test = tt(x,y,test_size=0.2,random_state=1)"
   ]
  },
  {
   "cell_type": "code",
   "execution_count": 158,
   "metadata": {
    "collapsed": true
   },
   "outputs": [],
   "source": [
    "inputX = x_train.as_matrix()\n",
    "inputY = y_train.as_matrix()"
   ]
  },
  {
   "cell_type": "code",
   "execution_count": 159,
   "metadata": {},
   "outputs": [
    {
     "data": {
      "text/plain": [
       "array([[1, 0, 0, 0],\n",
       "       [1, 0, 0, 0],\n",
       "       [1, 0, 0, 0],\n",
       "       ..., \n",
       "       [1, 0, 0, 0],\n",
       "       [0, 0, 0, 1],\n",
       "       [1, 0, 0, 0]], dtype=int64)"
      ]
     },
     "execution_count": 159,
     "metadata": {},
     "output_type": "execute_result"
    }
   ],
   "source": [
    "inputY"
   ]
  },
  {
   "cell_type": "code",
   "execution_count": 160,
   "metadata": {
    "collapsed": true
   },
   "outputs": [],
   "source": [
    "learning_rate = 0.02\n",
    "training_epochs = 20000\n",
    "display_step = 1000\n",
    "n_samples = inputY.size"
   ]
  },
  {
   "cell_type": "code",
   "execution_count": 161,
   "metadata": {
    "collapsed": true
   },
   "outputs": [],
   "source": [
    "#computation graph\n",
    "x = tf.placeholder(tf.float32,[None,8])\n",
    "#weights\n",
    "W = tf.Variable(tf.random_normal([8,4]))\n",
    "\n",
    "#biases\n",
    "b = tf.Variable(tf.random_normal([4]))\n",
    "\n",
    "#calculations\n",
    "y_values = tf.add(tf.matmul(x,W),b)\n",
    "\n",
    "y = tf.nn.softmax(y_values)\n",
    "\n",
    "y_ = tf.placeholder(tf.float32,[None,4])\n"
   ]
  },
  {
   "cell_type": "code",
   "execution_count": 162,
   "metadata": {
    "collapsed": true
   },
   "outputs": [],
   "source": [
    "cost = tf.reduce_sum(tf.pow(y_ - y, 2))/(2*n_samples)\n",
    "\n",
    "optimizer = tf.train.GradientDescentOptimizer(learning_rate).minimize(cost)"
   ]
  },
  {
   "cell_type": "code",
   "execution_count": 163,
   "metadata": {},
   "outputs": [
    {
     "name": "stdout",
     "output_type": "stream",
     "text": [
      "WARNING:tensorflow:From <ipython-input-163-80f4a80570a7>:1: initialize_all_variables (from tensorflow.python.ops.variables) is deprecated and will be removed after 2017-03-02.\n",
      "Instructions for updating:\n",
      "Use `tf.global_variables_initializer` instead.\n"
     ]
    }
   ],
   "source": [
    "init = tf.initialize_all_variables()\n",
    "sess = tf.Session()\n",
    "sess.run(init)"
   ]
  },
  {
   "cell_type": "code",
   "execution_count": 164,
   "metadata": {},
   "outputs": [
    {
     "name": "stdout",
     "output_type": "stream",
     "text": [
      "Training step: 0000 cost= 0.249645978\n",
      "Training step: 1000 cost= 0.237485602\n",
      "Training step: 2000 cost= 0.237446755\n",
      "Training step: 3000 cost= 0.237215415\n",
      "Training step: 4000 cost= 0.236538902\n",
      "Training step: 5000 cost= 0.236251697\n",
      "Training step: 6000 cost= 0.236251563\n",
      "Training step: 7000 cost= 0.236251459\n",
      "Training step: 8000 cost= 0.236251339\n",
      "Training step: 9000 cost= 0.236250713\n",
      "Training step: 10000 cost= 0.231770769\n",
      "Training step: 11000 cost= 0.076663874\n",
      "Training step: 12000 cost= 0.075860836\n",
      "Training step: 13000 cost= 0.075812437\n",
      "Training step: 14000 cost= 0.075811841\n",
      "Training step: 15000 cost= 0.075811706\n",
      "Training step: 16000 cost= 0.075811639\n",
      "Training step: 17000 cost= 0.075811595\n",
      "Training step: 18000 cost= 0.075811557\n",
      "Training step: 19000 cost= 0.075811535\n",
      "Optimization Finished!\n",
      "Training cost= 0.0758115 W= [[-0.22596018 -1.33724296  0.06848895  0.22809279]\n",
      " [ 2.07356644  0.27426183 -3.1072793   0.08429413]\n",
      " [-0.60161954  0.62087625 -0.47843215  0.56332141]\n",
      " [-0.43587506  1.16097975 -1.27884972  0.55812538]\n",
      " [-1.50799668 -0.48936614  0.97546929  1.0030936 ]\n",
      " [ 0.43530646 -0.65911984  0.40905908 -0.52076828]\n",
      " [-0.6706028   1.70315123  0.27208325 -1.44550872]\n",
      " [ 0.01638637 -0.4501465  -0.95629346 -0.3085573 ]] b= [-0.72605079  0.4266347  -0.33916181 -0.48014984] \n",
      "\n"
     ]
    }
   ],
   "source": [
    "#print (\"Training cost=\", training_cost, \"W=\", sess.run(W), \"b=\", sess.run(b), '\\n')\n",
    "for i in range(training_epochs):  \n",
    "    sess.run(optimizer, feed_dict={x: inputX, y_: inputY}) # Take a gradient descent step using our inputs and labels\n",
    "    \n",
    "    if (i) % display_step == 0:\n",
    "        cc = sess.run(cost, feed_dict={x: inputX, y_:inputY})\n",
    "        print (\"Training step:\", '%04d' % (i), \"cost=\", \"{:.9f}\".format(cc)) #, \\\"W=\", sess.run(W), \"b=\", sess.run(b)\n",
    "\n",
    "print (\"Optimization Finished!\")\n",
    "training_cost = sess.run(cost, feed_dict={x: inputX, y_: inputY})\n",
    "print (\"Training cost=\", training_cost, \"W=\", sess.run(W), \"b=\", sess.run(b), '\\n')\n"
   ]
  },
  {
   "cell_type": "code",
   "execution_count": 165,
   "metadata": {},
   "outputs": [
    {
     "name": "stdout",
     "output_type": "stream",
     "text": [
      "79.7794117647% accuracy \n"
     ]
    }
   ],
   "source": [
    "test_x = x_test.as_matrix()\n",
    "result = sess.run(y, feed_dict={x: x_test})\n",
    "A = np.asarray(result).reshape(-1)\n",
    "test_y = y_test.as_matrix()\n",
    "B = np.asarray(test_y).reshape(-1)\n",
    "print (str(((A==B).sum()/A.size)*100)+\"% accuracy \")\n",
    "np.savetxt(\"output_nn.csv\", result , delimiter=\" \",fmt= \"%0.3f\")"
   ]
  }
 ],
 "metadata": {
  "kernelspec": {
   "display_name": "Python 2",
   "language": "python",
   "name": "python2"
  },
  "language_info": {
   "codemirror_mode": {
    "name": "ipython",
    "version": 2
   },
   "file_extension": ".py",
   "mimetype": "text/x-python",
   "name": "python",
   "nbconvert_exporter": "python",
   "pygments_lexer": "ipython2",
   "version": "2.7.12"
  }
 },
 "nbformat": 4,
 "nbformat_minor": 2
}
