{
 "cells": [
  {
   "cell_type": "code",
   "execution_count": 4,
   "metadata": {
    "collapsed": true
   },
   "outputs": [],
   "source": [
    "import pandas as pd\n",
    "import numpy as np\n",
    "import tensorflow as tf\n",
    "from sklearn.model_selection import train_test_split as tt\n",
    "from sklearn.metrics import accuracy_score as acc\n",
    "%matplotlib inline"
   ]
  },
  {
   "cell_type": "code",
   "execution_count": 5,
   "metadata": {
    "collapsed": true
   },
   "outputs": [],
   "source": [
    "file = open(\"dummy.csv\", \"r\")\n",
    "file1 = open(\"data_nn.csv\", \"w\")\n",
    "file1.write('\"Time\" \"Ping Local\" \"Ping LocalApp-CorpApp\" \"Ping LocalApp-CorpDB\" \"Load Average LocalApp\" \"Load Average LocalDB\" \"Load Average CORPApp\" \"TNS ping LocalApp-LocalDB\" \"TNS ping LocalApp-CorpDB\" \"Class0\" \"Class1\" \"Class2\" \"Class3\"\\n')\n",
    "hr = 12\n",
    "m = 00\n",
    "for line in file:\n",
    "    l = len(line)\n",
    "    dat = list(line.split())\n",
    "    if (dat[1] == 'x' or dat[5] == 'x'):\n",
    "        line = str(hr)+\":\"+str(m)+\" \"\n",
    "        for da in dat:\n",
    "            if (da == 'x'):\n",
    "                da = '9999999999'\n",
    "            line+=da+\" \"\n",
    "        line += \"0 1 0 0\\n\"\n",
    "    elif (dat[2] == 'x' or dat[7] == 'x'):\n",
    "        line = str(hr)+\":\"+str(m)+\" \"\n",
    "        for da in dat:\n",
    "            if (da == 'x'):\n",
    "                da = '9999999999'\n",
    "            line+=da+\" \"\n",
    "        line += \"0 0 1 0\\n\"\n",
    "    elif (dat[3] == 'x' or dat[4] == 'x' or dat[6] == 'x'):\n",
    "        line = str(hr)+\":\"+str(m)+\" \"\n",
    "        for da in dat:         \n",
    "            if (da == 'x'):\n",
    "                da = '9999999999'\n",
    "            line+=da+\" \"\n",
    "        line += \"0 0 0 1\\n\"\n",
    "    else:\n",
    "        line = str(hr)+\":\"+str(m)+\" \"+line[:-1] + \" 1 0 0 0\" + line[-1]\n",
    "    file1.write(line)\n",
    "    m=m+1\n",
    "    if(m==60):\n",
    "       m=0 \n",
    "       hr=hr+1\n",
    "        \n",
    "    if(hr==24):\n",
    "        hr=0\n",
    "file.close()\n",
    "file1.close()"
   ]
  },
  {
   "cell_type": "code",
   "execution_count": 6,
   "metadata": {},
   "outputs": [
    {
     "name": "stdout",
     "output_type": "stream",
     "text": [
      "       Class0  Class1  Class2  Class3\n",
      "0         NaN     NaN     NaN     NaN\n",
      "1         NaN     NaN     NaN     NaN\n",
      "2         NaN     NaN     NaN     NaN\n",
      "3         NaN     NaN     NaN     NaN\n",
      "4         NaN     NaN     NaN     NaN\n",
      "5         NaN     NaN     NaN     NaN\n",
      "6         NaN     NaN     NaN     NaN\n",
      "7         NaN     NaN     NaN     NaN\n",
      "8         NaN     NaN     NaN     NaN\n",
      "9         NaN     NaN     NaN     NaN\n",
      "10        NaN     NaN     NaN     NaN\n",
      "11        NaN     NaN     NaN     NaN\n",
      "12        NaN     NaN     NaN     NaN\n",
      "13        NaN     NaN     NaN     NaN\n",
      "14        NaN     NaN     NaN     NaN\n",
      "15        NaN     NaN     NaN     NaN\n",
      "16        NaN     NaN     NaN     NaN\n",
      "17        NaN     NaN     NaN     NaN\n",
      "18        NaN     NaN     NaN     NaN\n",
      "19        NaN     NaN     NaN     NaN\n",
      "20        NaN     NaN     NaN     NaN\n",
      "21        NaN     NaN     NaN     NaN\n",
      "22        NaN     NaN     NaN     NaN\n",
      "23        NaN     NaN     NaN     NaN\n",
      "24        NaN     NaN     NaN     NaN\n",
      "25        NaN     NaN     NaN     NaN\n",
      "26        NaN     NaN     NaN     NaN\n",
      "27        NaN     NaN     NaN     NaN\n",
      "28        NaN     NaN     NaN     NaN\n",
      "29        NaN     NaN     NaN     NaN\n",
      "...       ...     ...     ...     ...\n",
      "11641     0.0     0.0     0.0     1.0\n",
      "11642     0.0     0.0     0.0     1.0\n",
      "11643     0.0     0.0     0.0     1.0\n",
      "11644     0.0     0.0     0.0     1.0\n",
      "11645     0.0     0.0     1.0     0.0\n",
      "11646     0.0     0.0     1.0     0.0\n",
      "11647     0.0     0.0     1.0     0.0\n",
      "11648     0.0     0.0     1.0     0.0\n",
      "11649     0.0     0.0     1.0     0.0\n",
      "11650     0.0     0.0     1.0     0.0\n",
      "11651     0.0     0.0     1.0     0.0\n",
      "11652     0.0     0.0     1.0     0.0\n",
      "11653     0.0     0.0     1.0     0.0\n",
      "11654     0.0     0.0     1.0     0.0\n",
      "11655     0.0     0.0     1.0     0.0\n",
      "11656     0.0     0.0     1.0     0.0\n",
      "11657     0.0     0.0     1.0     0.0\n",
      "11658     0.0     0.0     1.0     0.0\n",
      "11659     0.0     0.0     1.0     0.0\n",
      "11660     0.0     0.0     1.0     0.0\n",
      "11661     0.0     0.0     1.0     0.0\n",
      "11662     0.0     0.0     1.0     0.0\n",
      "11663     0.0     0.0     1.0     0.0\n",
      "11664     0.0     0.0     1.0     0.0\n",
      "11665     0.0     0.0     1.0     0.0\n",
      "11666     0.0     0.0     1.0     0.0\n",
      "11667     0.0     0.0     0.0     1.0\n",
      "11668     0.0     0.0     0.0     1.0\n",
      "11669     0.0     0.0     0.0     1.0\n",
      "11670     0.0     0.0     0.0     1.0\n",
      "\n",
      "[11671 rows x 4 columns]\n"
     ]
    },
    {
     "name": "stderr",
     "output_type": "stream",
     "text": [
      "/usr/local/lib/python2.7/dist-packages/ipykernel_launcher.py:2: DeprecationWarning: \n",
      ".ix is deprecated. Please use\n",
      ".loc for label based indexing or\n",
      ".iloc for positional indexing\n",
      "\n",
      "See the documentation here:\n",
      "http://pandas.pydata.org/pandas-docs/stable/indexing.html#deprecate_ix\n",
      "  \n"
     ]
    }
   ],
   "source": [
    "data = pd.read_csv(\"data_nn.csv\",delimiter = ' ')\n",
    "x = data.ix[:,1:9]\n",
    "y = data.ix[:,9:]\n",
    "x_train,x_test,y_train,y_test = tt(x,y,test_size=0.2,random_state=1)\n",
    "print (y)"
   ]
  },
  {
   "cell_type": "code",
   "execution_count": 18,
   "metadata": {
    "collapsed": true
   },
   "outputs": [],
   "source": [
    "inputX = x_train.as_matrix()\n",
    "inputY = y_train.as_matrix()"
   ]
  },
  {
   "cell_type": "code",
   "execution_count": 19,
   "metadata": {},
   "outputs": [
    {
     "data": {
      "text/plain": [
       "array([[  4.13000000e-01,   5.88000000e+01,   8.26000000e+01, ...,\n",
       "          1.70000000e-01,   9.00000000e+01,   1.80000000e+02],\n",
       "       [  3.80000000e-01,   7.58000000e+01,   5.70000000e+01, ...,\n",
       "          1.63800000e+01,   0.00000000e+00,   1.30000000e+02],\n",
       "       [  3.47000000e-01,   6.93000000e+01,   5.61000000e+01, ...,\n",
       "          2.70000000e-01,   1.00000000e+01,   1.30000000e+02],\n",
       "       ..., \n",
       "       [  4.03000000e-01,   7.26000000e+01,   5.80000000e+01, ...,\n",
       "          1.42000000e+00,   0.00000000e+00,   1.30000000e+02],\n",
       "       [  1.70000000e+00,   6.54000000e+01,   5.62000000e+01, ...,\n",
       "          8.00000000e-02,   1.00000000e+10,   1.30000000e+02],\n",
       "       [  3.40000000e-01,   5.74000000e+01,   8.94000000e+01, ...,\n",
       "          9.40000000e-01,   0.00000000e+00,   1.18000000e+03]])"
      ]
     },
     "execution_count": 19,
     "metadata": {},
     "output_type": "execute_result"
    }
   ],
   "source": [
    "inputX\n"
   ]
  },
  {
   "cell_type": "code",
   "execution_count": 20,
   "metadata": {
    "collapsed": true
   },
   "outputs": [],
   "source": [
    "learning_rate = 0.02\n",
    "training_epochs = 20000\n",
    "display_step = 1000\n",
    "n_samples = inputY.size"
   ]
  },
  {
   "cell_type": "code",
   "execution_count": 21,
   "metadata": {
    "collapsed": true
   },
   "outputs": [],
   "source": [
    "#computation graph\n",
    "x = tf.placeholder(tf.float32,[None,8])\n",
    "#weights\n",
    "W = tf.Variable([[0.15463702, -1.21701765, 0.52780521, -1.4738549],\n",
    "                [0.42833516, -0.04660674, 0.82068664, 0.09615696],\n",
    "                [0.62039953, 0.93298858, -0.19275554, -1.06650257],\n",
    "                [-0.05696351, -1.84619224, -0.93848866, -0.38569927],\n",
    "                [-0.67261547, 0.19050605, -0.29760489, -0.62254256],\n",
    "                [-1.1083765, -2.41506457, 0.25277814, -2.16972232],\n",
    "                [0.35110912, 0.16467018, 2.88074422, -0.33394173],\n",
    "                [1.98250139, -0.09985847, -0.04889834, -0.10028272]])\n",
    "#W2 = tf.Variable(tf.random_normal([16,4]))\n",
    "#biases\n",
    "b = tf.Variable([0.13422392, -0.29879299, 0.13994822, 1.51326454])\n",
    "#b2 = tf.Variable(tf.random_normal([4]))\n",
    "\n",
    "#calculations\n",
    "y_values = tf.add(tf.matmul(x,W),b)\n",
    "\n",
    "y = tf.nn.softmax(y_values)\n",
    "\n",
    "y_ = tf.placeholder(tf.float32,[None,4])\n"
   ]
  },
  {
   "cell_type": "code",
   "execution_count": 22,
   "metadata": {
    "collapsed": true
   },
   "outputs": [],
   "source": [
    "cost = tf.reduce_sum(tf.pow(y_ - y, 2))/(2*n_samples)\n",
    "\n",
    "optimizer = tf.train.GradientDescentOptimizer(learning_rate).minimize(cost)"
   ]
  },
  {
   "cell_type": "code",
   "execution_count": 23,
   "metadata": {},
   "outputs": [
    {
     "name": "stdout",
     "output_type": "stream",
     "text": [
      "WARNING:tensorflow:From /home/aksharma/miniconda3/lib/python3.6/site-packages/tensorflow/python/util/tf_should_use.py:170: initialize_all_variables (from tensorflow.python.ops.variables) is deprecated and will be removed after 2017-03-02.\n",
      "Instructions for updating:\n",
      "Use `tf.global_variables_initializer` instead.\n"
     ]
    }
   ],
   "source": [
    "init = tf.initialize_all_variables()\n",
    "sess = tf.Session()\n",
    "sess.run(init)"
   ]
  },
  {
   "cell_type": "code",
   "execution_count": 24,
   "metadata": {},
   "outputs": [
    {
     "name": "stdout",
     "output_type": "stream",
     "text": [
      "Training step: 0000 cost= 0.020783532\n",
      "Training step: 1000 cost= 0.020783532\n",
      "Training step: 2000 cost= 0.020783532\n",
      "Training step: 3000 cost= 0.020783531\n",
      "Training step: 4000 cost= 0.020783531\n",
      "Training step: 5000 cost= 0.020783531\n",
      "Training step: 6000 cost= 0.020783531\n",
      "Training step: 7000 cost= 0.020783529\n",
      "Training step: 8000 cost= 0.020783529\n",
      "Training step: 9000 cost= 0.020783529\n",
      "Training step: 10000 cost= 0.020783529\n",
      "Training step: 11000 cost= 0.020783529\n",
      "Training step: 12000 cost= 0.020783529\n",
      "Training step: 13000 cost= 0.020783529\n",
      "Training step: 14000 cost= 0.020783529\n",
      "Training step: 15000 cost= 0.020783529\n",
      "Training step: 16000 cost= 0.020783527\n",
      "Training step: 17000 cost= 0.020783527\n",
      "Training step: 18000 cost= 0.020783527\n",
      "Training step: 19000 cost= 0.020783527\n",
      "Optimization Finished!\n",
      "Training cost= 0.0207835 W= [[ 0.15463702 -1.21701765  0.52780521 -1.4738549 ]\n",
      " [ 0.42893121 -0.04660674  0.82068664  0.09615696]\n",
      " [ 0.62039953  0.93298858 -0.19308956 -1.06650257]\n",
      " [-0.05696351 -1.84619224 -0.93848866 -0.38569927]\n",
      " [-0.67261547  0.19050606 -0.29760489 -0.62254256]\n",
      " [-1.1083765  -2.41506457  0.25277814 -2.16972232]\n",
      " [ 0.35176882  0.16467018  2.88074422 -0.33394173]\n",
      " [ 1.98250139 -0.09985847 -0.04978497 -0.10028272]] b= [ 0.13422392 -0.29879299  0.13994822  1.51326454] \n",
      "\n"
     ]
    }
   ],
   "source": [
    "#print (\"Training cost=\", training_cost, \"W=\", sess.run(W), \"b=\", sess.run(b), '\\n')\n",
    "for i in range(training_epochs):  \n",
    "    sess.run(optimizer, feed_dict={x: inputX, y_: inputY}) # Take a gradient descent step using our inputs and labels\n",
    "    \n",
    "    if (i) % display_step == 0:\n",
    "        cc = sess.run(cost, feed_dict={x: inputX, y_:inputY})\n",
    "        print (\"Training step:\", '%04d' % (i), \"cost=\", \"{:.9f}\".format(cc)) #, \\\"W=\", sess.run(W), \"b=\", sess.run(b)\n",
    "\n",
    "print (\"Optimization Finished!\")\n",
    "training_cost = sess.run(cost, feed_dict={x: inputX, y_: inputY})\n",
    "print (\"Training cost=\", training_cost, \"W=\", sess.run(W), \"b=\", sess.run(b), '\\n')"
   ]
  },
  {
   "cell_type": "code",
   "execution_count": 25,
   "metadata": {},
   "outputs": [
    {
     "name": "stdout",
     "output_type": "stream",
     "text": [
      "95.5698529412% accuracy \n"
     ]
    }
   ],
   "source": [
    "test_x = x_test.as_matrix()\n",
    "result = sess.run(y, feed_dict={x: x_test})\n",
    "A = np.asarray(result).reshape(-1)\n",
    "test_y = y_test.as_matrix()\n",
    "B = np.asarray(test_y).reshape(-1)\n",
    "print (str(((A==B).sum()/A.size)*100)+\"% accuracy \")\n",
    "np.savetxt(\"output_nn.csv\", result , delimiter=\" \",fmt= \"%0.3f\")"
   ]
  }
 ],
 "metadata": {
  "kernelspec": {
   "display_name": "Python 2",
   "language": "python",
   "name": "python2"
  },
  "language_info": {
   "codemirror_mode": {
    "name": "ipython",
    "version": 2
   },
   "file_extension": ".py",
   "mimetype": "text/x-python",
   "name": "python",
   "nbconvert_exporter": "python",
   "pygments_lexer": "ipython2",
   "version": "2.7.12"
  }
 },
 "nbformat": 4,
 "nbformat_minor": 2
}
