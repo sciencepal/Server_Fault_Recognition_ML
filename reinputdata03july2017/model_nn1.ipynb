{
 "cells": [
  {
   "cell_type": "code",
   "execution_count": 17,
   "metadata": {
    "collapsed": true
   },
   "outputs": [],
   "source": [
    "import pandas as pd\n",
    "import numpy as np\n",
    "import tensorflow as tf\n",
    "from sklearn.model_selection import train_test_split as tt\n",
    "from sklearn.metrics import accuracy_score as acc\n",
    "%matplotlib inline"
   ]
  },
  {
   "cell_type": "code",
   "execution_count": 18,
   "metadata": {
    "collapsed": true
   },
   "outputs": [],
   "source": [
    "file = open(\"dummy.csv\", \"r\")\n",
    "file1 = open(\"data_nn.csv\", \"w\")\n",
    "file1.write('\"Time\" \"Ping Local\" \"Ping LocalApp-CorpApp\" \"Ping LocalApp-CorpDB\" \"Load Average LocalApp\" \"Load Average LocalDB\" \"Load Average CORPApp\" \"TNS ping LocalApp-LocalDB\" \"TNS ping LocalApp-CorpDB\" \"Class0\" \"Class1\" \"Class2\" \"Class3\"\\n')\n",
    "hr = 12\n",
    "m = 00\n",
    "for line in file:\n",
    "    l = len(line)\n",
    "    dat = list(line.split())\n",
    "    if (dat[1] == 'x' or dat[5] == 'x'):\n",
    "        line = str(hr)+\":\"+str(m)+\" \"\n",
    "        for da in dat:\n",
    "            if (da == 'x'):\n",
    "                da = '9999999999'\n",
    "            line+=da+\" \"\n",
    "        line += \"0 1 0 0\\n\"\n",
    "    elif (dat[2] == 'x' or dat[7] == 'x'):\n",
    "        line = str(hr)+\":\"+str(m)+\" \"\n",
    "        for da in dat:\n",
    "            if (da == 'x'):\n",
    "                da = '9999999999'\n",
    "            line+=da+\" \"\n",
    "        line += \"0 0 1 0\\n\"\n",
    "    elif (dat[3] == 'x' or dat[4] == 'x' or dat[6] == 'x'):\n",
    "        line = str(hr)+\":\"+str(m)+\" \"\n",
    "        for da in dat:         \n",
    "            if (da == 'x'):\n",
    "                da = '9999999999'\n",
    "            line+=da+\" \"\n",
    "        line += \"0 0 0 1\\n\"\n",
    "    else:\n",
    "        line = str(hr)+\":\"+str(m)+\" \"\n",
    "        for da in dat:         \n",
    "            if (da == 'x'):\n",
    "                da = '9999999999'\n",
    "            line+=da+\" \"\n",
    "        line += \"1 0 0 0\\n\"\n",
    "    file1.write(line)\n",
    "    m=m+1\n",
    "    if(m==60):\n",
    "       m=0 \n",
    "       hr=hr+1\n",
    "        \n",
    "    if(hr==24):\n",
    "        hr=0\n",
    "file.close()\n",
    "file1.close()"
   ]
  },
  {
   "cell_type": "code",
   "execution_count": 19,
   "metadata": {},
   "outputs": [
    {
     "name": "stdout",
     "output_type": "stream",
     "text": [
      "      Class0  Class1  Class2  Class3\n",
      "0          1       0       0       0\n",
      "1          1       0       0       0\n",
      "2          1       0       0       0\n",
      "3          1       0       0       0\n",
      "4          1       0       0       0\n",
      "5          1       0       0       0\n",
      "6          1       0       0       0\n",
      "7          1       0       0       0\n",
      "8          1       0       0       0\n",
      "9          1       0       0       0\n",
      "10         1       0       0       0\n",
      "11         1       0       0       0\n",
      "12         1       0       0       0\n",
      "13         1       0       0       0\n",
      "14         1       0       0       0\n",
      "15         1       0       0       0\n",
      "16         1       0       0       0\n",
      "17         1       0       0       0\n",
      "18         1       0       0       0\n",
      "19         1       0       0       0\n",
      "20         1       0       0       0\n",
      "21         1       0       0       0\n",
      "22         1       0       0       0\n",
      "23         1       0       0       0\n",
      "24         1       0       0       0\n",
      "25         1       0       0       0\n",
      "26         1       0       0       0\n",
      "27         1       0       0       0\n",
      "28         1       0       0       0\n",
      "29         1       0       0       0\n",
      "...      ...     ...     ...     ...\n",
      "6767       0       0       0       1\n",
      "6768       0       0       0       1\n",
      "6769       0       0       0       1\n",
      "6770       0       0       0       1\n",
      "6771       0       0       1       0\n",
      "6772       0       0       1       0\n",
      "6773       0       0       1       0\n",
      "6774       0       0       1       0\n",
      "6775       0       0       1       0\n",
      "6776       0       0       1       0\n",
      "6777       0       0       1       0\n",
      "6778       0       0       1       0\n",
      "6779       0       0       1       0\n",
      "6780       0       0       1       0\n",
      "6781       0       0       1       0\n",
      "6782       0       0       1       0\n",
      "6783       0       0       1       0\n",
      "6784       0       0       1       0\n",
      "6785       0       0       1       0\n",
      "6786       0       0       1       0\n",
      "6787       0       0       1       0\n",
      "6788       0       0       1       0\n",
      "6789       0       0       1       0\n",
      "6790       0       0       1       0\n",
      "6791       0       0       1       0\n",
      "6792       0       0       1       0\n",
      "6793       0       0       0       1\n",
      "6794       0       0       0       1\n",
      "6795       0       0       0       1\n",
      "6796       0       0       0       1\n",
      "\n",
      "[6797 rows x 4 columns]\n"
     ]
    },
    {
     "name": "stderr",
     "output_type": "stream",
     "text": [
      "/usr/local/lib/python2.7/dist-packages/ipykernel_launcher.py:2: DeprecationWarning: \n",
      ".ix is deprecated. Please use\n",
      ".loc for label based indexing or\n",
      ".iloc for positional indexing\n",
      "\n",
      "See the documentation here:\n",
      "http://pandas.pydata.org/pandas-docs/stable/indexing.html#deprecate_ix\n",
      "  \n"
     ]
    }
   ],
   "source": [
    "data = pd.read_csv(\"data_nn.csv\",delimiter = ' ')\n",
    "x = data.ix[:,1:9]\n",
    "y = data.ix[:,9:]\n",
    "x_train,x_test,y_train,y_test = tt(x,y,test_size=0.2,random_state=1)\n",
    "print (y)"
   ]
  },
  {
   "cell_type": "code",
   "execution_count": 20,
   "metadata": {
    "collapsed": true
   },
   "outputs": [],
   "source": [
    "inputX = x_train.as_matrix()\n",
    "inputY = y_train.as_matrix()"
   ]
  },
  {
   "cell_type": "code",
   "execution_count": 21,
   "metadata": {},
   "outputs": [
    {
     "data": {
      "text/plain": [
       "array([[  4.13000000e-01,   5.88000000e+01,   8.26000000e+01, ...,\n",
       "          1.70000000e-01,   9.00000000e+01,   1.80000000e+02],\n",
       "       [  3.80000000e-01,   7.58000000e+01,   5.70000000e+01, ...,\n",
       "          1.63800000e+01,   0.00000000e+00,   1.30000000e+02],\n",
       "       [  3.47000000e-01,   6.93000000e+01,   5.61000000e+01, ...,\n",
       "          2.70000000e-01,   1.00000000e+01,   1.30000000e+02],\n",
       "       ..., \n",
       "       [  4.03000000e-01,   7.26000000e+01,   5.80000000e+01, ...,\n",
       "          1.42000000e+00,   0.00000000e+00,   1.30000000e+02],\n",
       "       [  1.70000000e+00,   6.54000000e+01,   5.62000000e+01, ...,\n",
       "          8.00000000e-02,   1.00000000e+10,   1.30000000e+02],\n",
       "       [  3.40000000e-01,   5.74000000e+01,   8.94000000e+01, ...,\n",
       "          9.40000000e-01,   0.00000000e+00,   1.18000000e+03]])"
      ]
     },
     "execution_count": 21,
     "metadata": {},
     "output_type": "execute_result"
    }
   ],
   "source": [
    "inputX"
   ]
  },
  {
   "cell_type": "code",
   "execution_count": 22,
   "metadata": {
    "collapsed": true
   },
   "outputs": [],
   "source": [
    "learning_rate = 0.02\n",
    "training_epochs = 20000\n",
    "display_step = 1000\n",
    "n_samples = inputY.size"
   ]
  },
  {
   "cell_type": "code",
   "execution_count": 23,
   "metadata": {
    "collapsed": true
   },
   "outputs": [],
   "source": [
    "#computation graph\n",
    "x = tf.placeholder(tf.float32,[None,8])\n",
    "#weights\n",
    "W = tf.Variable([[0.15463702, -1.21701765, 0.52780521, -1.4738549],\n",
    "                [0.42833516, -0.04660674, 0.82068664, 0.09615696],\n",
    "                [0.62039953, 0.93298858, -0.19275554, -1.06650257],\n",
    "                [-0.05696351, -1.84619224, -0.93848866, -0.38569927],\n",
    "                [-0.67261547, 0.19050605, -0.29760489, -0.62254256],\n",
    "                [-1.1083765, -2.41506457, 0.25277814, -2.16972232],\n",
    "                [0.35110912, 0.16467018, 2.88074422, -0.33394173],\n",
    "                [1.98250139, -0.09985847, -0.04889834, -0.10028272]])\n",
    "#W2 = tf.Variable(tf.random_normal([16,4]))\n",
    "#biases\n",
    "b = tf.Variable([0.13422392, -0.29879299, 0.13994822, 1.51326454])\n",
    "#b2 = tf.Variable(tf.random_normal([4]))\n",
    "\n",
    "#calculations\n",
    "y_values = tf.add(tf.matmul(x,W),b)\n",
    "\n",
    "y = tf.nn.softmax(y_values)\n",
    "\n",
    "y_ = tf.placeholder(tf.float32,[None,4])\n"
   ]
  },
  {
   "cell_type": "code",
   "execution_count": 24,
   "metadata": {
    "collapsed": true
   },
   "outputs": [],
   "source": [
    "cost = tf.reduce_sum(tf.pow(y_ - y, 2))/(2*n_samples)\n",
    "\n",
    "optimizer = tf.train.GradientDescentOptimizer(learning_rate).minimize(cost)"
   ]
  },
  {
   "cell_type": "code",
   "execution_count": 25,
   "metadata": {},
   "outputs": [
    {
     "name": "stdout",
     "output_type": "stream",
     "text": [
      "WARNING:tensorflow:From /usr/local/lib/python2.7/dist-packages/tensorflow/python/util/tf_should_use.py:170: initialize_all_variables (from tensorflow.python.ops.variables) is deprecated and will be removed after 2017-03-02.\n",
      "Instructions for updating:\n",
      "Use `tf.global_variables_initializer` instead.\n"
     ]
    }
   ],
   "source": [
    "init = tf.initialize_all_variables()\n",
    "sess = tf.Session()\n",
    "sess.run(init)"
   ]
  },
  {
   "cell_type": "code",
   "execution_count": 26,
   "metadata": {},
   "outputs": [
    {
     "name": "stdout",
     "output_type": "stream",
     "text": [
      "('Training step:', '0000', 'cost=', '0.020783532')\n",
      "('Training step:', '1000', 'cost=', '0.020783532')\n",
      "('Training step:', '2000', 'cost=', '0.020783532')\n",
      "('Training step:', '3000', 'cost=', '0.020783531')\n",
      "('Training step:', '4000', 'cost=', '0.020783531')\n",
      "('Training step:', '5000', 'cost=', '0.020783531')\n",
      "('Training step:', '6000', 'cost=', '0.020783531')\n",
      "('Training step:', '7000', 'cost=', '0.020783529')\n",
      "('Training step:', '8000', 'cost=', '0.020783529')\n",
      "('Training step:', '9000', 'cost=', '0.020783529')\n",
      "('Training step:', '10000', 'cost=', '0.020783529')\n",
      "('Training step:', '11000', 'cost=', '0.020783529')\n",
      "('Training step:', '12000', 'cost=', '0.020783529')\n",
      "('Training step:', '13000', 'cost=', '0.020783529')\n",
      "('Training step:', '14000', 'cost=', '0.020783529')\n",
      "('Training step:', '15000', 'cost=', '0.020783529')\n",
      "('Training step:', '16000', 'cost=', '0.020783527')\n",
      "('Training step:', '17000', 'cost=', '0.020783527')\n",
      "('Training step:', '18000', 'cost=', '0.020783527')\n",
      "('Training step:', '19000', 'cost=', '0.020783527')\n",
      "Optimization Finished!\n",
      "('Training cost=', 0.020783527, 'W=', array([[ 0.15463702, -1.21701765,  0.52780521, -1.4738549 ],\n",
      "       [ 0.42893121, -0.04660674,  0.82068664,  0.09615696],\n",
      "       [ 0.62039953,  0.93298858, -0.19308956, -1.06650257],\n",
      "       [-0.05696351, -1.84619224, -0.93848866, -0.38569927],\n",
      "       [-0.67261547,  0.19050606, -0.29760489, -0.62254256],\n",
      "       [-1.1083765 , -2.41506457,  0.25277814, -2.16972232],\n",
      "       [ 0.35176882,  0.16467018,  2.88074422, -0.33394173],\n",
      "       [ 1.98250139, -0.09985847, -0.04978497, -0.10028272]], dtype=float32), 'b=', array([ 0.13422392, -0.29879299,  0.13994822,  1.51326454], dtype=float32), '\\n')\n"
     ]
    }
   ],
   "source": [
    "#print (\"Training cost=\", training_cost, \"W=\", sess.run(W), \"b=\", sess.run(b), '\\n')\n",
    "for i in range(training_epochs):  \n",
    "    sess.run(optimizer, feed_dict={x: inputX, y_: inputY}) # Take a gradient descent step using our inputs and labels\n",
    "    \n",
    "    if (i) % display_step == 0:\n",
    "        cc = sess.run(cost, feed_dict={x: inputX, y_:inputY})\n",
    "        print (\"Training step:\", '%04d' % (i), \"cost=\", \"{:.9f}\".format(cc)) #, \\\"W=\", sess.run(W), \"b=\", sess.run(b)\n",
    "\n",
    "print (\"Optimization Finished!\")\n",
    "training_cost = sess.run(cost, feed_dict={x: inputX, y_: inputY})\n",
    "print (\"Training cost=\", training_cost, \"W=\", sess.run(W), \"b=\", sess.run(b), '\\n')"
   ]
  },
  {
   "cell_type": "code",
   "execution_count": 27,
   "metadata": {},
   "outputs": [
    {
     "name": "stdout",
     "output_type": "stream",
     "text": [
      "0% accuracy \n"
     ]
    }
   ],
   "source": [
    "test_x = x_test.as_matrix()\n",
    "result = sess.run(y, feed_dict={x: x_test})\n",
    "A = np.asarray(result).reshape(-1)\n",
    "test_y = y_test.as_matrix()\n",
    "B = np.asarray(test_y).reshape(-1)\n",
    "print (str(((A==B).sum()/A.size)*100)+\"% accuracy \")\n",
    "np.savetxt(\"output_nn.csv\", result , delimiter=\" \",fmt= \"%0.3f\")"
   ]
  }
 ],
 "metadata": {
  "kernelspec": {
   "display_name": "Python 2",
   "language": "python",
   "name": "python2"
  },
  "language_info": {
   "codemirror_mode": {
    "name": "ipython",
    "version": 2
   },
   "file_extension": ".py",
   "mimetype": "text/x-python",
   "name": "python",
   "nbconvert_exporter": "python",
   "pygments_lexer": "ipython2",
   "version": "2.7.12"
  }
 },
 "nbformat": 4,
 "nbformat_minor": 2
}
