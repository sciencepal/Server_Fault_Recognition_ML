{
 "cells": [
  {
   "cell_type": "code",
   "execution_count": 1,
   "metadata": {
    "collapsed": true
   },
   "outputs": [],
   "source": [
    "import numpy as np\n",
    "import csv\n",
    "import tensorflow as tf\n",
    "import os\n",
    "import pandas as pd\n",
    "import seaborn as sns\n",
    "import datetime as dt\n",
    "import matplotlib.pyplot as plt\n",
    "%matplotlib inline\n",
    "from sklearn import preprocessing\n",
    "from sklearn.model_selection import train_test_split\n",
    "from sklearn.metrics import confusion_matrix"
   ]
  },
  {
   "cell_type": "code",
   "execution_count": 2,
   "metadata": {
    "collapsed": true
   },
   "outputs": [],
   "source": [
    "file = open(\"test_data.csv\", \"r\")\n",
    "file1 = open(\"test_data1.csv\", \"w\")\n",
    "f = \"\"\n",
    "for line in file:\n",
    "    line1 = line\n",
    "    line1 = line1.replace(\"x\", \"nan\")\n",
    "    file1.write(line1)\n",
    "file.close()\n",
    "file1.close()\n",
    "    "
   ]
  },
  {
   "cell_type": "code",
   "execution_count": null,
   "metadata": {
    "collapsed": true
   },
   "outputs": [],
   "source": []
  },
  {
   "cell_type": "code",
   "execution_count": 33,
   "metadata": {},
   "outputs": [
    {
     "name": "stdout",
     "output_type": "stream",
     "text": [
      "[[   0.412   68.3     55.2   ...,    0.39     0.     120.   ]\n",
      " [   0.474   67.4     54.9   ...,    0.92     0.     120.   ]\n",
      " [   0.422   66.7     55.4   ...,    0.81     0.     130.   ]\n",
      " ..., \n",
      " [   0.382   56.4     50.5   ...,    2.82     0.     110.   ]\n",
      " [   0.422   57.7     51.2   ...,    5.45     0.     110.   ]\n",
      " [   0.333   71.5     50.8   ...,    3.52     0.     120.   ]]\n"
     ]
    }
   ],
   "source": [
    "result = np.array(list(csv.reader(open(\"test_data1.csv\", \"r\"), delimiter=\" \"))).astype(\"float\")\n",
    "print (result)"
   ]
  },
  {
   "cell_type": "code",
   "execution_count": 56,
   "metadata": {
    "collapsed": true
   },
   "outputs": [],
   "source": [
    "mdat = np.ma.masked_array(result,np.isnan(result))\n",
    "mm = np.mean(mdat,axis=0)\n",
    "values = mm.filled(np.nan)\n",
    "k = 0\n",
    "for i in result.transpose():\n",
    "    l = 0\n",
    "    for j in i:\n",
    "        if (np.isnan(result[l][k])):\n",
    "            result[l][k] = values[k]\n",
    "        l+=1\n",
    "    k+=1\n",
    "np.savetxt(\"test.csv\", result, delimiter=\" \")\n",
    "        "
   ]
  },
  {
   "cell_type": "code",
   "execution_count": 49,
   "metadata": {},
   "outputs": [
    {
     "ename": "IndexError",
     "evalue": "index 2 is out of bounds for axis 0 with size 2",
     "output_type": "error",
     "traceback": [
      "\u001b[0;31m---------------------------------------------------------------------------\u001b[0m",
      "\u001b[0;31mIndexError\u001b[0m                                Traceback (most recent call last)",
      "\u001b[0;32m<ipython-input-49-26a5385f7544>\u001b[0m in \u001b[0;36m<module>\u001b[0;34m()\u001b[0m\n\u001b[1;32m      8\u001b[0m     \u001b[0ml\u001b[0m \u001b[0;34m=\u001b[0m \u001b[0;36m0\u001b[0m\u001b[0;34m\u001b[0m\u001b[0m\n\u001b[1;32m      9\u001b[0m     \u001b[0;32mfor\u001b[0m \u001b[0mj\u001b[0m \u001b[0;32min\u001b[0m \u001b[0mi\u001b[0m\u001b[0;34m:\u001b[0m\u001b[0;34m\u001b[0m\u001b[0m\n\u001b[0;32m---> 10\u001b[0;31m         \u001b[0mx\u001b[0m\u001b[0;34m[\u001b[0m\u001b[0mk\u001b[0m\u001b[0;34m]\u001b[0m\u001b[0;34m[\u001b[0m\u001b[0ml\u001b[0m\u001b[0;34m]\u001b[0m \u001b[0;34m=\u001b[0m \u001b[0;36m0\u001b[0m\u001b[0;34m\u001b[0m\u001b[0m\n\u001b[0m\u001b[1;32m     11\u001b[0m         \u001b[0ml\u001b[0m\u001b[0;34m+=\u001b[0m\u001b[0;36m1\u001b[0m\u001b[0;34m\u001b[0m\u001b[0m\n\u001b[1;32m     12\u001b[0m     \u001b[0mk\u001b[0m\u001b[0;34m+=\u001b[0m\u001b[0;36m1\u001b[0m\u001b[0;34m\u001b[0m\u001b[0m\n",
      "\u001b[0;31mIndexError\u001b[0m: index 2 is out of bounds for axis 0 with size 2"
     ]
    }
   ],
   "source": [
    "import numpy as np\n",
    "\n",
    "x = np.array([[1000,  10],\n",
    "              [ 765,   5],\n",
    "              [ 800,   7]])\n",
    "k = 0;\n",
    "for i in x.transpose():\n",
    "    l = 0\n",
    "    for j in i:\n",
    "        x[k][l] = 0\n",
    "        l+=1\n",
    "    k+=1\n",
    "print (x)\n",
    "\n",
    "x_normed = (result - result.mean(axis=0)) / (result.max(axis=0) - result.min(axis=0))\n",
    "\n",
    "print(x_normed)"
   ]
  },
  {
   "cell_type": "code",
   "execution_count": 27,
   "metadata": {
    "collapsed": true
   },
   "outputs": [],
   "source": [
    "c = tf.add(2,result)"
   ]
  },
  {
   "cell_type": "code",
   "execution_count": 28,
   "metadata": {},
   "outputs": [
    {
     "name": "stdout",
     "output_type": "stream",
     "text": [
      "[[  2  70  57 ...,   2   2 122]\n",
      " [  2  69  56 ...,   2   2 122]\n",
      " [  2  68  57 ...,   2   2 132]\n",
      " ..., \n",
      " [  2  58  52 ...,   4   2 112]\n",
      " [  2  59  53 ...,   7   2 112]\n",
      " [  2  73  52 ...,   5   2 122]]\n"
     ]
    }
   ],
   "source": [
    "with tf.Session() as sess:\n",
    "    print(sess.run(c))"
   ]
  },
  {
   "cell_type": "code",
   "execution_count": 39,
   "metadata": {},
   "outputs": [
    {
     "name": "stdout",
     "output_type": "stream",
     "text": [
      "[ 2.5         4.33333333  3.        ]\n"
     ]
    }
   ],
   "source": [
    "dat = np.array([[1,2,3], [4,5,np.nan], [np.nan,6,np.nan], [np.nan,np.nan,np.nan]])\n",
    "mdat = np.ma.masked_array(dat,np.isnan(dat))\n",
    "mm = np.mean(mdat,axis=0)\n",
    "print (mm.filled(np.nan))"
   ]
  }
 ],
 "metadata": {
  "kernelspec": {
   "display_name": "Python 2",
   "language": "python",
   "name": "python2"
  },
  "language_info": {
   "codemirror_mode": {
    "name": "ipython",
    "version": 2
   },
   "file_extension": ".py",
   "mimetype": "text/x-python",
   "name": "python",
   "nbconvert_exporter": "python",
   "pygments_lexer": "ipython2",
   "version": "2.7.12"
  }
 },
 "nbformat": 4,
 "nbformat_minor": 2
}
